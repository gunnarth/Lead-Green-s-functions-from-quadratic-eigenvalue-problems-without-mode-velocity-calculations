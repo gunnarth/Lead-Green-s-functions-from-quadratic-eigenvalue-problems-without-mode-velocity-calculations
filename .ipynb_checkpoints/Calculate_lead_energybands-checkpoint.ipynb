{
 "cells": [
  {
   "cell_type": "code",
   "execution_count": 2,
   "metadata": {},
   "outputs": [],
   "source": [
    "using Plots\n",
    "using LinearAlgebra\n",
    "using DelimitedFiles\n",
    "using CSV"
   ]
  },
  {
   "cell_type": "markdown",
   "metadata": {},
   "source": [
    "# Energy bands for Rashba and nanoribbon leads calculated"
   ]
  },
  {
   "cell_type": "code",
   "execution_count": 4,
   "metadata": {},
   "outputs": [],
   "source": [
    "DIR=@__DIR__\n",
    "include(joinpath(DIR, \"src\", \"hamiltonian_functions\", \"grapheneMatrices.jl\"))\n",
    "include(joinpath(DIR, \"src\", \"hamiltonian_functions\", \"rashbaMatrices.jl\"))\n",
    "\n",
    "N=24 #Corresponds to matrix size 98x98\n",
    "\n",
    "#===========Nanoribbon=======================================#\n",
    "Nsl_n=2*(2*N+1)\n",
    "(Hn,Vn)=grapheneMatrices(N)\n",
    "\n",
    "#===========Rashba============================================#\n",
    "Nsl_r=2*(2*N+1)\n",
    "(Hr,Vr)=rashbaMatrices((2*N+1),1);\n",
    "\n",
    "3=#==========Calculating points for plot========================#\n",
    "NkLx=200\n",
    "kLxVec=LinRange(-pi,pi,NkLx)\n",
    "OUTn=zeros(NkLx,Nsl_n+1)\n",
    "OUTr=zeros(NkLx,Nsl_r+1)\n",
    "\n",
    "for ikL=1:NkLx\n",
    "    kL=kLxVec[ikL]\n",
    "\n",
    "    #-------------nanoribbon-------------------------#\n",
    "    Eig=eigvals(Hn+Vn*exp(im*kL)+Vn'*exp(-im*kL))\n",
    "    OUTn[ikL,1]=kL\n",
    "    OUTn[ikL,2:Nsl_n+1]=Eig'\n",
    "    \n",
    "    #------------rashba------------------------------#\n",
    "    Eig=eigvals(Hr+Vr*exp(im*kL)+Vr'*exp(-im*kL))\n",
    "    OUTr[ikL,1]=kL\n",
    "    OUTr[ikL,2:Nsl_r+1]=real.(Eig')\n",
    "        \n",
    "end\n",
    "\n",
    "writedlm(\"EnergyBands_Nanoribbon.csv\",OUTn,',')\n",
    "writedlm(\"Data\",\"EnergyBands_Rashba.csv\",OUTr,',')"
   ]
  }
 ],
 "metadata": {
  "kernelspec": {
   "display_name": "Julia 1.8.2",
   "language": "julia",
   "name": "julia-1.8"
  },
  "language_info": {
   "file_extension": ".jl",
   "mimetype": "application/julia",
   "name": "julia",
   "version": "1.8.2"
  }
 },
 "nbformat": 4,
 "nbformat_minor": 4
}
