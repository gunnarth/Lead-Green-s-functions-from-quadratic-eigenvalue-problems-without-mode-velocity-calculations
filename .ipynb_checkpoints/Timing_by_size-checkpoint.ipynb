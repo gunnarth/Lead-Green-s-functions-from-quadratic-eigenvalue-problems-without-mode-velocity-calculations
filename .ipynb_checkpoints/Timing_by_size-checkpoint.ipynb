{
 "cells": [
  {
   "cell_type": "code",
   "execution_count": 1,
   "id": "f91d32d0-3a3b-4660-81dc-addedcac2d4f",
   "metadata": {},
   "outputs": [
    {
     "name": "stdout",
     "output_type": "stream",
     "text": [
      "Dataframes,CSV, and IterativeSolvers installed\n"
     ]
    },
    {
     "data": {
      "text/plain": [
       "CountBands (generic function with 2 methods)"
      ]
     },
     "execution_count": 1,
     "metadata": {},
     "output_type": "execute_result"
    }
   ],
   "source": [
    "using Pkg\n",
    "try\n",
    "    using DataFrames\n",
    "    using CSV\n",
    "    using IterativeSolvers\n",
    "    println(\"Dataframes,CSV, and IterativeSolvers installed\")\n",
    "catch\n",
    "\n",
    "    Pkg.add(\"DataFrames\")\n",
    "    Pkg.add(\"CSV\")\n",
    "    Pkg.add(\"IterativeSolvers\")\n",
    "    Pkg.precompile()\n",
    "    println(\"Dataframes,CSV, and IterativeSolvers installed\")\n",
    "    using DataFrames\n",
    "    using CSV\n",
    "    using IterativeSolvers\n",
    "end\n",
    "using ProgressMeter\n",
    "using CSV\n",
    "DIR=@__DIR__\n",
    "include(joinpath(DIR, \"src\", \"hamiltonian_functions\", \"grapheneMatrices.jl\"))\n",
    "include(joinpath(DIR, \"src\", \"hamiltonian_functions\", \"rashbaMatrices.jl\"))\n",
    "include(joinpath(DIR, \"src\", \"selfenergy_functions\", \"selfenergy.jl\"))\n",
    "include(joinpath(DIR, \"src\", \"selfenergy_functions\",  \"LopesSanchos.jl\"))\n",
    "include(joinpath(DIR, \"src\", \"helper_functions\",      \"Timer.jl\"))\n",
    "include(joinpath(DIR, \"src\", \"helper_functions\",      \"CountBands.jl\"))"
   ]
  },
  {
   "cell_type": "code",
   "execution_count": 8,
   "id": "076e5abb-1386-4171-a08a-130a52e4beaf",
   "metadata": {},
   "outputs": [
    {
     "data": {
      "text/plain": [
       "\"Data\\\\TimingData\\\\Data_for_fig3_test.csv\""
      ]
     },
     "execution_count": 8,
     "metadata": {},
     "output_type": "execute_result"
    }
   ],
   "source": [
    "eta=1e-14\n",
    "N=24\n",
    "Energies=collect(0:0.001:1);\n",
    "repIt=10\n",
    "\n",
    "dfE=DataFrame(E = Float64[],\n",
    "              N = Int64[],\n",
    "              GESpert_Min = Union{Float64,Missing}[],GESpert_FE = Union{Float64,Missing}[],\n",
    "              GESstandard_Min = Union{Float64,Missing}[],GESstandard_FE = Union{Float64,Missing}[],\n",
    "              nBands = Union{Float64,Missing}[]);\n",
    "\n",
    "Hg,Vg=grapheneMatrices(N);\n",
    "\n",
    "for (i,e) in enumerate(Energies)\n",
    "     push!(dfE[!,:E],e)\n",
    "     push!(dfE[!,:N],2*(2*N+1)) \n",
    "             \n",
    "     nBands=CountBands(e,Hg,Vg,eta)\n",
    "     push!(dfE[!,:nBands],nBands)\n",
    "           #\n",
    "           push!(dfE[!,[:GESpert_Min,:GESpert_FE]],\n",
    "                     Timer(selfenergy_pert,e,Hg,Vg,eta,repIt,\"\"))\n",
    "              \n",
    "           #\n",
    "           push!(dfE[!,[:GESstandard_Min,:GESstandard_FE]],\n",
    "                     Timer(selfenergy_standard,e,Hg,Vg,eta,repIt,\"\"))            \n",
    "end\n",
    "CSV.write(joinpath(\"Data\",\"TimingData\",\"Data_for_fig3_test.csv\"),dfE)"
   ]
  }
 ],
 "metadata": {
  "kernelspec": {
   "display_name": "Julia 1.8.2",
   "language": "julia",
   "name": "julia-1.8"
  },
  "language_info": {
   "file_extension": ".jl",
   "mimetype": "application/julia",
   "name": "julia",
   "version": "1.8.2"
  }
 },
 "nbformat": 4,
 "nbformat_minor": 5
}
