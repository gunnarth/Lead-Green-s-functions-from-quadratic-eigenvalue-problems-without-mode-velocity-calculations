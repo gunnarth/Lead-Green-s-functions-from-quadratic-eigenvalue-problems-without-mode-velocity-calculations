{
 "cells": [
  {
   "cell_type": "markdown",
   "id": "06f5ae60-75bc-460b-9a6d-37271e6ffca6",
   "metadata": {},
   "source": [
    "# Installing/Loading external packages"
   ]
  },
  {
   "cell_type": "code",
   "execution_count": 1,
   "id": "bca65555-c481-4de8-9577-21595fe36e7e",
   "metadata": {},
   "outputs": [
    {
     "name": "stdout",
     "output_type": "stream",
     "text": [
      "Dataframes, CSV, and IterativeSolvers installed\n"
     ]
    }
   ],
   "source": [
    "using Pkg\n",
    "try\n",
    "    using DataFrames\n",
    "    using CSV\n",
    "    using IterativeSolvers\n",
    "    println(\"Dataframes, CSV, and IterativeSolvers installed\")\n",
    "catch\n",
    "\n",
    "    Pkg.add(\"DataFrames\")\n",
    "    Pkg.add(\"CSV\")\n",
    "    Pkg.add(\"IterativeSolvers\")\n",
    "    Pkg.precompile()\n",
    "    println(\"Dataframes, CSV, and IterativeSolvers not installed\")\n",
    "    using DataFrames\n",
    "    using CSV\n",
    "    using IterativeSolvers\n",
    "    println(\"Dataframes, CSV, and IterativeSolvers installed\")\n",
    "end"
   ]
  },
  {
   "cell_type": "markdown",
   "id": "7d5dc782-77b1-4271-8ee3-d3c8bd0e3fa9",
   "metadata": {},
   "source": [
    "# Loading code"
   ]
  },
  {
   "cell_type": "code",
   "execution_count": 2,
   "id": "c4d31761-8d68-4722-8d06-71a358c77e6d",
   "metadata": {},
   "outputs": [
    {
     "data": {
      "text/plain": [
       "Timer (generic function with 1 method)"
      ]
     },
     "execution_count": 2,
     "metadata": {},
     "output_type": "execute_result"
    }
   ],
   "source": [
    "DIR=@__DIR__\n",
    "include(joinpath(DIR, \"src\", \"hamiltonian_functions\", \"grapheneMatrices.jl\"))\n",
    "include(joinpath(DIR, \"src\", \"hamiltonian_functions\", \"rashbaMatrices.jl\"))\n",
    "include(joinpath(DIR, \"src\", \"selfenergy_functions\", \"selfenergy.jl\"))\n",
    "include(joinpath(DIR, \"src\", \"selfenergy_functions\",  \"LopesSanchos.jl\"))\n",
    "include(joinpath(DIR, \"src\", \"helper_functions\",      \"Timer.jl\"))"
   ]
  },
  {
   "cell_type": "code",
   "execution_count": 3,
   "id": "98363540-33d7-43cb-8243-967d1bc5b3fd",
   "metadata": {},
   "outputs": [
    {
     "name": "stdout",
     "output_type": "stream",
     "text": [
      "1.0e-16\n",
      "1.0e-15\n",
      "1.0e-14\n",
      "1.0e-13\n",
      "1.0e-16\n",
      "1.0e-15\n",
      "1.0e-14\n",
      "1.0e-13\n"
     ]
    }
   ],
   "source": [
    "etaList=[10.0^(-p) for p in [16,15,14,13]] \n",
    "#Energies=collect(0:0.05:10); use this\n",
    "#Energies_ribbon=collect(-5:0.05:5); use this\n",
    "\n",
    "Energies=collect(0:1.0:10)\n",
    "Energies_ribbon=collect(-5:1.0:5)\n",
    "\n",
    "#repIt=10 use this!!\n",
    "repIt=2\n",
    "N=12\n",
    "\n",
    "Hr,Vr=rashbaMatrices((2*N+1),1);\n",
    "Hg,Vg=grapheneMatrices(N);\n",
    "\n",
    "SystemType=Dict(\"Nanoribbon\" => (Hg,Vg), \"Rashba\" => (Hr,Vr))\n",
    "\n",
    "#lmethod=\"GESpert\"\n",
    "#mmethod=\"GESpower2\"\n",
    "#rmethod=\"LS\"\n",
    "\n",
    "dfE=DataFrame(E = Float64[],\n",
    "              S = String[],\n",
    "              eta = Float64[],\n",
    "              GESpert_Min = Union{Float64,Missing}[],\n",
    "              GESpert_FE = Union{Float64,Missing}[],\n",
    "              GESpower2_Min = Union{Float64,Missing}[],\n",
    "              GESpower2_FE = Union{Float64,Missing}[],\n",
    "              LS_Min = Union{Float64,Missing}[],\n",
    "              LS_FE = Union{Float64,Missing}[]);\n",
    "\n",
    "for key in keys(SystemType)\n",
    "\n",
    "    \n",
    "    for eta in etaList\n",
    "        println(eta)\n",
    "        for (i,e) in enumerate(Energies)\n",
    "            if key==\"Nanoribbon\"\n",
    "                e=Energies_ribbon[i]\n",
    "            end\n",
    "            H=SystemType[key][1]\n",
    "            V=SystemType[key][2]\n",
    "            push!(dfE[!,:E],e)\n",
    "            push!(dfE[!,:S],key)\n",
    "            push!(dfE[!,:eta],eta)\n",
    "\n",
    "            push!(dfE[!,[:GESpert_Min,:GESpert_FE]],\n",
    "                        Timer(selfenergy_pert,e,H,V,eta,repIt,\"\"))\n",
    "\n",
    "            push!(dfE[!,[:GESpower2_Min,:GESpower2_FE]],\n",
    "                        Timer(selfenergy_power2,e,H,V,eta,repIt,\"\"))\n",
    " \n",
    "            push!(dfE[!,[:LS_Min,:LS_FE]],\n",
    "                        Timer(leadGF,e,H,V,eta,repIt,\"LS\"))  \n",
    "                    \n",
    "        end\n",
    "    end\n",
    "    #CSV.write(\"Tímatökuniðurstöður-1a/N$(2*(2*N+1))_$(key).csv\", dfE)\n",
    "end\n",
    "        "
   ]
  }
 ],
 "metadata": {
  "kernelspec": {
   "display_name": "Julia 1.8.2",
   "language": "julia",
   "name": "julia-1.8"
  },
  "language_info": {
   "file_extension": ".jl",
   "mimetype": "application/julia",
   "name": "julia",
   "version": "1.8.2"
  }
 },
 "nbformat": 4,
 "nbformat_minor": 5
}
