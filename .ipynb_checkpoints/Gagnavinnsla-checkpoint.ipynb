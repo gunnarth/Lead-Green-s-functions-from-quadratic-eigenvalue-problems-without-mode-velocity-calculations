{
 "cells": [
  {
   "cell_type": "code",
   "execution_count": 3,
   "metadata": {},
   "outputs": [
    {
     "data": {
      "text/plain": [
       "'/home/gunnarth'"
      ]
     },
     "execution_count": 3,
     "metadata": {},
     "output_type": "execute_result"
    }
   ],
   "source": [
    "import pandas as pd\n",
    "import numpy as np\n",
    "import matplotlib.pyplot as plt\n",
    "%matplotlib inline\n",
    "%pwd"
   ]
  },
  {
   "cell_type": "code",
   "execution_count": 4,
   "metadata": {},
   "outputs": [
    {
     "name": "stdout",
     "output_type": "stream",
     "text": [
      "//home//gunnarth//Tímatökuniðurstöður-1a//\n",
      "//home//gunnarth//Tímatökuniðurstöður-1b//\n",
      "//home//gunnarth//Tímatökuniðurstöður-1c//\n",
      "//home//gunnarth//Tímatökuniðurstöður-1d//\n",
      "//home//gunnarth//Tímatökuniðurstöður-2//\n"
     ]
    }
   ],
   "source": [
    "for i in [\"1a\",\"1b\",\"1c\",\"1d\",\"2\"]:\n",
    "    N=[18,50,98,194]\n",
    "    Systems=['Rashba', 'Nanoribbon', 'Periodic','Snaking']\n",
    "    LBList=[\"0.03\",\"0.3\",\"1.0\",\"100.0\"]\n",
    "    dfList=[]\n",
    "    filepath=\"//home//gunnarth//Tímatökuniðurstöður-{}//\".format(i)\n",
    "    print(filepath)\n",
    "    for n in N:\n",
    "        for s in Systems:\n",
    "            for lb in LBList:\n",
    "                try:\n",
    "                    dfn=pd.read_csv(filepath+\"N{}_{}_MagLen{}.csv\".format(n,s,lb))\n",
    "                    dfList.append(dfn)\n",
    "                except:\n",
    "                    pass\n",
    "    \n",
    "    df=pd.concat(dfList,axis=0,sort=True)\n",
    "    df.to_pickle(\"//home//gunnarth//Gagnavinnsla//Times{}.pickle\".format(i))"
   ]
  }
 ],
 "metadata": {
  "kernelspec": {
   "display_name": "Python 3",
   "language": "python",
   "name": "python3"
  },
  "language_info": {
   "codemirror_mode": {
    "name": "ipython",
    "version": 3
   },
   "file_extension": ".py",
   "mimetype": "text/x-python",
   "name": "python",
   "nbconvert_exporter": "python",
   "pygments_lexer": "ipython3",
   "version": "3.7.10"
  }
 },
 "nbformat": 4,
 "nbformat_minor": 4
}
