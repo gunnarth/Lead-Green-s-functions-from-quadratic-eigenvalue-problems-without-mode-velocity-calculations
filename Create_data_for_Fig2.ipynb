{
 "cells": [
  {
   "cell_type": "code",
   "execution_count": 2,
   "metadata": {},
   "outputs": [],
   "source": [
    "using Plots\n",
    "using DataFrames\n",
    "using CSV"
   ]
  },
  {
   "cell_type": "code",
   "execution_count": 3,
   "metadata": {},
   "outputs": [
    {
     "data": {
      "text/plain": [
       "rashbaMatrices_withMagneticField (generic function with 1 method)"
      ]
     },
     "execution_count": 3,
     "metadata": {},
     "output_type": "execute_result"
    }
   ],
   "source": [
    "include(joinpath(\"src\", \"selfenergy_functions\",\"selfenergy.jl\"))\n",
    "include(joinpath(\"src\", \"hamiltonian_functions\",\"rashbaMatrices_withMagneticField.jl\"))"
   ]
  },
  {
   "cell_type": "code",
   "execution_count": 4,
   "metadata": {},
   "outputs": [],
   "source": [
    "ML=0.3 #Magnetic lenght\n",
    "N=12 #corresponds to matrix size 50\n",
    "eta=1e-10\n",
    "dfE=DataFrame(E = Float64[], \n",
    "              x = Float64[],\n",
    "              y = Float64[])\n",
    "for en in [0.5,2,6]\n",
    "    Hr,Vr=rashbaMatrices_withMagneticField((2*N+1),1,ML);\n",
    "    lambda=all_eigenvalues(en,Hr,Vr,eta)\n",
    "    X=real(lambda)\n",
    "    Y=imag(lambda)\n",
    "    for (x,y) in zip(X,Y)\n",
    "        push!(dfE[!,:E],en)\n",
    "        push!(dfE[!,:x],x)\n",
    "        push!(dfE[!,:y],y)\n",
    "    end\n",
    "end"
   ]
  },
  {
   "cell_type": "code",
   "execution_count": 5,
   "metadata": {},
   "outputs": [
    {
     "data": {
      "text/plain": [
       "\"Data\\\\Data_for_fig2.csv\""
      ]
     },
     "execution_count": 5,
     "metadata": {},
     "output_type": "execute_result"
    }
   ],
   "source": [
    "CSV.write(joinpath(\"Data\",\"Data_for_fig2.csv\"), dfE)"
   ]
  }
 ],
 "metadata": {
  "kernelspec": {
   "display_name": "Julia 1.8.2",
   "language": "julia",
   "name": "julia-1.8"
  },
  "language_info": {
   "file_extension": ".jl",
   "mimetype": "application/julia",
   "name": "julia",
   "version": "1.8.2"
  }
 },
 "nbformat": 4,
 "nbformat_minor": 4
}
